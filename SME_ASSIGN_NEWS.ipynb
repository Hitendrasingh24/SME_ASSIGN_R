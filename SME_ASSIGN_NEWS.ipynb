{
  "cells": [
    {
      "cell_type": "code",
      "execution_count": null,
      "metadata": {
        "colab": {
          "base_uri": "https://localhost:8080/"
        },
        "id": "FMQ2tJy4F533",
        "outputId": "c352a50b-65d5-4e33-c1e2-9157bf5e89fb"
      },
      "outputs": [
        {
          "output_type": "stream",
          "name": "stdout",
          "text": [
            "Archive:  /content/drive/MyDrive/WORKSHOP_DAY2/DataSet_Misinfo_TRUE.csv.zip\n",
            "  inflating: DataSet_Misinfo_TRUE.csv  \n"
          ]
        }
      ],
      "source": [
        "!unzip /content/drive/MyDrive/WORKSHOP_DAY2/DataSet_Misinfo_TRUE.csv.zip\n",
        "\n"
      ]
    },
    {
      "cell_type": "code",
      "execution_count": null,
      "metadata": {
        "id": "_VQ7P-p3F52P",
        "colab": {
          "base_uri": "https://localhost:8080/"
        },
        "outputId": "7cd89a31-9272-43f8-9ed0-a63416316ebf"
      },
      "outputs": [
        {
          "output_type": "stream",
          "name": "stdout",
          "text": [
            "Archive:  /content/drive/MyDrive/WORKSHOP_DAY2/DataSet_Misinfo_FAKE.csv.zip\n",
            "  inflating: DataSet_Misinfo_FAKE.csv  \n"
          ]
        }
      ],
      "source": [
        "!unzip /content/drive/MyDrive/WORKSHOP_DAY2/DataSet_Misinfo_FAKE.csv.zip\n",
        "\n"
      ]
    },
    {
      "cell_type": "code",
      "execution_count": 34,
      "metadata": {
        "id": "Ei4fUoijFtyL",
        "colab": {
          "base_uri": "https://localhost:8080/"
        },
        "outputId": "e206ae5a-4d75-4791-a0db-31a70254133e"
      },
      "outputs": [
        {
          "output_type": "stream",
          "name": "stderr",
          "text": [
            "[nltk_data] Downloading package stopwords to /root/nltk_data...\n",
            "[nltk_data]   Package stopwords is already up-to-date!\n",
            "[nltk_data] Downloading package punkt to /root/nltk_data...\n",
            "[nltk_data]   Package punkt is already up-to-date!\n"
          ]
        },
        {
          "output_type": "execute_result",
          "data": {
            "text/plain": [
              "True"
            ]
          },
          "metadata": {},
          "execution_count": 34
        }
      ],
      "source": [
        "import numpy as np\n",
        "import pandas as pd\n",
        "import nltk\n",
        "nltk.download('stopwords')\n",
        "nltk.download('punkt')"
      ]
    },
    {
      "cell_type": "code",
      "execution_count": 35,
      "metadata": {
        "id": "DTGx8_LtF50g"
      },
      "outputs": [],
      "source": [
        "import warnings\n",
        "warnings.filterwarnings('ignore')\n",
        "\n",
        "import matplotlib.pyplot as plt\n",
        "import seaborn as sns\n",
        "import nltk\n",
        "import re\n",
        "\n",
        "from tensorflow.keras.preprocessing.text import Tokenizer\n",
        "from tensorflow.keras.preprocessing.sequence import pad_sequences\n",
        "from tensorflow.keras.models import Sequential\n",
        "from tensorflow.keras.layers import Dense, Embedding, LSTM, Conv1D, MaxPool1D\n",
        "from sklearn.model_selection import train_test_split\n",
        "from sklearn.metrics import classification_report, accuracy_score\n",
        "\n",
        "import gensim"
      ]
    },
    {
      "cell_type": "markdown",
      "metadata": {
        "id": "vVH7yt0vM0to"
      },
      "source": [
        "#IMPORTING"
      ]
    },
    {
      "cell_type": "code",
      "execution_count": null,
      "metadata": {
        "id": "jvufJLVyF57u"
      },
      "outputs": [],
      "source": [
        "df_true=pd.read_csv('/content/DataSet_Misinfo_TRUE.csv')\n",
        "df_fake=pd.read_csv('/content/DataSet_Misinfo_FAKE.csv')"
      ]
    },
    {
      "cell_type": "markdown",
      "metadata": {
        "id": "jQdMuqJgM71_"
      },
      "source": [
        "# DATA CLEANING\n",
        "\n"
      ]
    },
    {
      "cell_type": "code",
      "execution_count": null,
      "metadata": {
        "id": "qiZez9ncF5_L",
        "colab": {
          "base_uri": "https://localhost:8080/",
          "height": 206
        },
        "outputId": "8eb7affd-64f6-4173-a03b-9eb95d8fc0cd"
      },
      "outputs": [
        {
          "output_type": "execute_result",
          "data": {
            "text/plain": [
              "                                                text  label\n",
              "0  The head of a conservative Republican faction ...      1\n",
              "1  Transgender people will be allowed for the fir...      1\n",
              "2  The special counsel investigation of links bet...      1\n",
              "3  Trump campaign adviser George Papadopoulos tol...      1\n",
              "4  President Donald Trump called on the U.S. Post...      1"
            ],
            "text/html": [
              "\n",
              "  <div id=\"df-94a75f64-3337-4613-9720-8aa2a74ac2eb\" class=\"colab-df-container\">\n",
              "    <div>\n",
              "<style scoped>\n",
              "    .dataframe tbody tr th:only-of-type {\n",
              "        vertical-align: middle;\n",
              "    }\n",
              "\n",
              "    .dataframe tbody tr th {\n",
              "        vertical-align: top;\n",
              "    }\n",
              "\n",
              "    .dataframe thead th {\n",
              "        text-align: right;\n",
              "    }\n",
              "</style>\n",
              "<table border=\"1\" class=\"dataframe\">\n",
              "  <thead>\n",
              "    <tr style=\"text-align: right;\">\n",
              "      <th></th>\n",
              "      <th>text</th>\n",
              "      <th>label</th>\n",
              "    </tr>\n",
              "  </thead>\n",
              "  <tbody>\n",
              "    <tr>\n",
              "      <th>0</th>\n",
              "      <td>The head of a conservative Republican faction ...</td>\n",
              "      <td>1</td>\n",
              "    </tr>\n",
              "    <tr>\n",
              "      <th>1</th>\n",
              "      <td>Transgender people will be allowed for the fir...</td>\n",
              "      <td>1</td>\n",
              "    </tr>\n",
              "    <tr>\n",
              "      <th>2</th>\n",
              "      <td>The special counsel investigation of links bet...</td>\n",
              "      <td>1</td>\n",
              "    </tr>\n",
              "    <tr>\n",
              "      <th>3</th>\n",
              "      <td>Trump campaign adviser George Papadopoulos tol...</td>\n",
              "      <td>1</td>\n",
              "    </tr>\n",
              "    <tr>\n",
              "      <th>4</th>\n",
              "      <td>President Donald Trump called on the U.S. Post...</td>\n",
              "      <td>1</td>\n",
              "    </tr>\n",
              "  </tbody>\n",
              "</table>\n",
              "</div>\n",
              "    <div class=\"colab-df-buttons\">\n",
              "\n",
              "  <div class=\"colab-df-container\">\n",
              "    <button class=\"colab-df-convert\" onclick=\"convertToInteractive('df-94a75f64-3337-4613-9720-8aa2a74ac2eb')\"\n",
              "            title=\"Convert this dataframe to an interactive table.\"\n",
              "            style=\"display:none;\">\n",
              "\n",
              "  <svg xmlns=\"http://www.w3.org/2000/svg\" height=\"24px\" viewBox=\"0 -960 960 960\">\n",
              "    <path d=\"M120-120v-720h720v720H120Zm60-500h600v-160H180v160Zm220 220h160v-160H400v160Zm0 220h160v-160H400v160ZM180-400h160v-160H180v160Zm440 0h160v-160H620v160ZM180-180h160v-160H180v160Zm440 0h160v-160H620v160Z\"/>\n",
              "  </svg>\n",
              "    </button>\n",
              "\n",
              "  <style>\n",
              "    .colab-df-container {\n",
              "      display:flex;\n",
              "      gap: 12px;\n",
              "    }\n",
              "\n",
              "    .colab-df-convert {\n",
              "      background-color: #E8F0FE;\n",
              "      border: none;\n",
              "      border-radius: 50%;\n",
              "      cursor: pointer;\n",
              "      display: none;\n",
              "      fill: #1967D2;\n",
              "      height: 32px;\n",
              "      padding: 0 0 0 0;\n",
              "      width: 32px;\n",
              "    }\n",
              "\n",
              "    .colab-df-convert:hover {\n",
              "      background-color: #E2EBFA;\n",
              "      box-shadow: 0px 1px 2px rgba(60, 64, 67, 0.3), 0px 1px 3px 1px rgba(60, 64, 67, 0.15);\n",
              "      fill: #174EA6;\n",
              "    }\n",
              "\n",
              "    .colab-df-buttons div {\n",
              "      margin-bottom: 4px;\n",
              "    }\n",
              "\n",
              "    [theme=dark] .colab-df-convert {\n",
              "      background-color: #3B4455;\n",
              "      fill: #D2E3FC;\n",
              "    }\n",
              "\n",
              "    [theme=dark] .colab-df-convert:hover {\n",
              "      background-color: #434B5C;\n",
              "      box-shadow: 0px 1px 3px 1px rgba(0, 0, 0, 0.15);\n",
              "      filter: drop-shadow(0px 1px 2px rgba(0, 0, 0, 0.3));\n",
              "      fill: #FFFFFF;\n",
              "    }\n",
              "  </style>\n",
              "\n",
              "    <script>\n",
              "      const buttonEl =\n",
              "        document.querySelector('#df-94a75f64-3337-4613-9720-8aa2a74ac2eb button.colab-df-convert');\n",
              "      buttonEl.style.display =\n",
              "        google.colab.kernel.accessAllowed ? 'block' : 'none';\n",
              "\n",
              "      async function convertToInteractive(key) {\n",
              "        const element = document.querySelector('#df-94a75f64-3337-4613-9720-8aa2a74ac2eb');\n",
              "        const dataTable =\n",
              "          await google.colab.kernel.invokeFunction('convertToInteractive',\n",
              "                                                    [key], {});\n",
              "        if (!dataTable) return;\n",
              "\n",
              "        const docLinkHtml = 'Like what you see? Visit the ' +\n",
              "          '<a target=\"_blank\" href=https://colab.research.google.com/notebooks/data_table.ipynb>data table notebook</a>'\n",
              "          + ' to learn more about interactive tables.';\n",
              "        element.innerHTML = '';\n",
              "        dataTable['output_type'] = 'display_data';\n",
              "        await google.colab.output.renderOutput(dataTable, element);\n",
              "        const docLink = document.createElement('div');\n",
              "        docLink.innerHTML = docLinkHtml;\n",
              "        element.appendChild(docLink);\n",
              "      }\n",
              "    </script>\n",
              "  </div>\n",
              "\n",
              "\n",
              "<div id=\"df-576bd532-ec98-495f-ab36-2d9fcd707dd8\">\n",
              "  <button class=\"colab-df-quickchart\" onclick=\"quickchart('df-576bd532-ec98-495f-ab36-2d9fcd707dd8')\"\n",
              "            title=\"Suggest charts\"\n",
              "            style=\"display:none;\">\n",
              "\n",
              "<svg xmlns=\"http://www.w3.org/2000/svg\" height=\"24px\"viewBox=\"0 0 24 24\"\n",
              "     width=\"24px\">\n",
              "    <g>\n",
              "        <path d=\"M19 3H5c-1.1 0-2 .9-2 2v14c0 1.1.9 2 2 2h14c1.1 0 2-.9 2-2V5c0-1.1-.9-2-2-2zM9 17H7v-7h2v7zm4 0h-2V7h2v10zm4 0h-2v-4h2v4z\"/>\n",
              "    </g>\n",
              "</svg>\n",
              "  </button>\n",
              "\n",
              "<style>\n",
              "  .colab-df-quickchart {\n",
              "      --bg-color: #E8F0FE;\n",
              "      --fill-color: #1967D2;\n",
              "      --hover-bg-color: #E2EBFA;\n",
              "      --hover-fill-color: #174EA6;\n",
              "      --disabled-fill-color: #AAA;\n",
              "      --disabled-bg-color: #DDD;\n",
              "  }\n",
              "\n",
              "  [theme=dark] .colab-df-quickchart {\n",
              "      --bg-color: #3B4455;\n",
              "      --fill-color: #D2E3FC;\n",
              "      --hover-bg-color: #434B5C;\n",
              "      --hover-fill-color: #FFFFFF;\n",
              "      --disabled-bg-color: #3B4455;\n",
              "      --disabled-fill-color: #666;\n",
              "  }\n",
              "\n",
              "  .colab-df-quickchart {\n",
              "    background-color: var(--bg-color);\n",
              "    border: none;\n",
              "    border-radius: 50%;\n",
              "    cursor: pointer;\n",
              "    display: none;\n",
              "    fill: var(--fill-color);\n",
              "    height: 32px;\n",
              "    padding: 0;\n",
              "    width: 32px;\n",
              "  }\n",
              "\n",
              "  .colab-df-quickchart:hover {\n",
              "    background-color: var(--hover-bg-color);\n",
              "    box-shadow: 0 1px 2px rgba(60, 64, 67, 0.3), 0 1px 3px 1px rgba(60, 64, 67, 0.15);\n",
              "    fill: var(--button-hover-fill-color);\n",
              "  }\n",
              "\n",
              "  .colab-df-quickchart-complete:disabled,\n",
              "  .colab-df-quickchart-complete:disabled:hover {\n",
              "    background-color: var(--disabled-bg-color);\n",
              "    fill: var(--disabled-fill-color);\n",
              "    box-shadow: none;\n",
              "  }\n",
              "\n",
              "  .colab-df-spinner {\n",
              "    border: 2px solid var(--fill-color);\n",
              "    border-color: transparent;\n",
              "    border-bottom-color: var(--fill-color);\n",
              "    animation:\n",
              "      spin 1s steps(1) infinite;\n",
              "  }\n",
              "\n",
              "  @keyframes spin {\n",
              "    0% {\n",
              "      border-color: transparent;\n",
              "      border-bottom-color: var(--fill-color);\n",
              "      border-left-color: var(--fill-color);\n",
              "    }\n",
              "    20% {\n",
              "      border-color: transparent;\n",
              "      border-left-color: var(--fill-color);\n",
              "      border-top-color: var(--fill-color);\n",
              "    }\n",
              "    30% {\n",
              "      border-color: transparent;\n",
              "      border-left-color: var(--fill-color);\n",
              "      border-top-color: var(--fill-color);\n",
              "      border-right-color: var(--fill-color);\n",
              "    }\n",
              "    40% {\n",
              "      border-color: transparent;\n",
              "      border-right-color: var(--fill-color);\n",
              "      border-top-color: var(--fill-color);\n",
              "    }\n",
              "    60% {\n",
              "      border-color: transparent;\n",
              "      border-right-color: var(--fill-color);\n",
              "    }\n",
              "    80% {\n",
              "      border-color: transparent;\n",
              "      border-right-color: var(--fill-color);\n",
              "      border-bottom-color: var(--fill-color);\n",
              "    }\n",
              "    90% {\n",
              "      border-color: transparent;\n",
              "      border-bottom-color: var(--fill-color);\n",
              "    }\n",
              "  }\n",
              "</style>\n",
              "\n",
              "  <script>\n",
              "    async function quickchart(key) {\n",
              "      const quickchartButtonEl =\n",
              "        document.querySelector('#' + key + ' button');\n",
              "      quickchartButtonEl.disabled = true;  // To prevent multiple clicks.\n",
              "      quickchartButtonEl.classList.add('colab-df-spinner');\n",
              "      try {\n",
              "        const charts = await google.colab.kernel.invokeFunction(\n",
              "            'suggestCharts', [key], {});\n",
              "      } catch (error) {\n",
              "        console.error('Error during call to suggestCharts:', error);\n",
              "      }\n",
              "      quickchartButtonEl.classList.remove('colab-df-spinner');\n",
              "      quickchartButtonEl.classList.add('colab-df-quickchart-complete');\n",
              "    }\n",
              "    (() => {\n",
              "      let quickchartButtonEl =\n",
              "        document.querySelector('#df-576bd532-ec98-495f-ab36-2d9fcd707dd8 button');\n",
              "      quickchartButtonEl.style.display =\n",
              "        google.colab.kernel.accessAllowed ? 'block' : 'none';\n",
              "    })();\n",
              "  </script>\n",
              "</div>\n",
              "    </div>\n",
              "  </div>\n"
            ],
            "application/vnd.google.colaboratory.intrinsic+json": {
              "type": "dataframe",
              "variable_name": "df_true",
              "summary": "{\n  \"name\": \"df_true\",\n  \"rows\": 34975,\n  \"fields\": [\n    {\n      \"column\": \"text\",\n      \"properties\": {\n        \"dtype\": \"string\",\n        \"samples\": [\n          \"People who don't believe that unauthorized immigrants in the US should be given legal status tend to emphasize that it would be unfair to immigrants who are in the US legally \\u2014 because they deserve a reward for settling in the US \\\"the right way.\\\"\\n\\nBut what if the legal immigration process is itself unfair?\\n\\nA new study by researchers at MIT and Brown University suggest that might be what's going on \\u2014 unintentionally. They looked at applications for employment-based green cards among immigrants who were already in the US. What they found was that, in the standard approval process, Latin American immigrants were much less likely than average to get approved \\u2014 and Asian immigrants were more likely. But when the government went through a slower but more complete approval process, the disparities disappeared.\\n\\nFor this study, the researchers (Emilio J. Castilla of MIT, and Ben A. Rissing of Brown) evaluated the phase in an application for an employment-based green card where the US Department of Labor has to approve or deny the immigrant's \\\"labor certification\\\" for a particular job. These applications get filed when a company decides to take an immigrant who's (almost always) already in the country on a temporary visa \\u2014 like a work visa or student visa \\u2014 and sponsor him or her for a green card, which would let him or her stay in the US permanently and eventually apply for citizenship. So this is the phase in the process where temporary immigrants can get approved to become permanent ones.\\n\\nTechnically, this is supposed to be evaluating the immigrant's would-be employer, not the immigrant him- or herself. In order to get the immigrant \\\"labor certified\\\" for a green card \\u2014 or any work visa \\u2014 the would-be employer has to prove that they tried to find a US citizen to fill the job, but failed.\\n\\nOne thing that isn't supposed to be a factor in the application is the immigrant's country of origin. But even when the researchers controlled for as many variables as they could \\u2014 from the temporary visa that an immigrant held in the US when he filed the green-card application, to the skill level of the job \\u2014 they found that approval rates varied widely from one nationality to the next. 90.5 percent of Asian immigrants were approved for labor certification. But only 66.8 percent of Latin American immigrants were.\\n\\nThe regional disparity even showed up in immigrants applying for the same type of job. \\\"Immigrants from Asia seeking employment as restaurant cooks are 41.6 percent more likely to be approved than immigrants from Latin America, all else being equal,\\\" the researchers write. It's a problem for high-skilled workers, too: Asian immigrants weren't any more likely than Canadians (for example) to get approved to work as computer software engineers, but Latin American immigrants were over 25 percent less likely.\\n\\nThe biggest problem with the study: the government agents looking over immigrants' applications could see each immigrant's educational background, but the researchers couldn't. That could be a huge factor explaining the variation: maybe Latin American immigrants are simply less educationally qualified for the positions they're applying for.\\n\\nBut the study indicates that can't be the whole story. For example, the researchers looked at immigrants who were already on H1-B high-skilled visas (99 percent of whom have a bachelor's degree or higher) but were applying to upgrade to green cards. Among that group, Asian immigrants were still 11 percent more likely than Canadians to get approved for green cards \\u2014 and H1B-holding Latin American immigrants were 20 percent less likely.\\n\\nThere's also previous research showing that government officials profile immigrants based on their countries of origin. In one study, in which officials were asked to look over fictional visa applications, the author said that region of origin was being used strongly as a \\\"criterion of a visa applicant's desirability.\\\"\\n\\nMost of the time, the DOL makes decisions based on basic information about the immigrant, the job, and the employer, as well as evidence of the employer's failed attempt to recruit US citizens. 90 percent of those cases get approved, and they're typically approved or denied in under 4 months. But in a few cases \\u2014 thanks to a process that is partly random, and partly not \\u2014 applications are \\\"audited,\\\" and agents take a more in-depth look at an immigrant's background, and the requirements for the position. In those cases, only 57 percent of applications are approved \\u2014 and it takes about 2 years to come to a decision.\\n\\nAccording to the new study, audited applications had one big advantage over non-audited ones: the disparities in approval rates between immigrants from different regions disappeared. That might indicate that whatever is happening to favor Asian immigrants and disfavor Latin American ones in the quicker process is unintentional, since government officials don't appear to think there's good reason to be more suspicious of Latin American applicants.\\n\\nThe study's authors suggest an easy fix: making it impossible for an official to see an applicant's country of origin, just like officials aren't allowed to see applicants' ages or sexes. If this really is a significant problem, however, it's not something that changing the process in the future will be able to fix.\\n\\nIf the government is really making it harder for Latin American immigrants currently in the US legally to get green cards through their employers, they're unfairly forcing Latin American immigrants to make the difficult choice between leaving the country they've been living in for years, and staying in the US after their visas expire. In other words, the government's approval-rate problem might be driving more legal Latin American immigrants to become illegal.\",\n          \"U.S. House Speaker Paul Ryan on Wednesday called on health insurance companies to \\u201cstick it out\\u201d in the Obamacare marketplace despite concerns over its stability, saying  Republicans are continuing their push to replace current law. Speaking in an interview with Axios news outlet, Ryan said he could not address ongoing litigation over the fate of the Obamacare cost-sharing subsidies but that he has encouraged insurers to still participate in 2018.\",\n          \"Back in June, I first saw Mr. Trump announcing his candidacy for president. What he said about unauthorized\\u00a0immigrants seemed ridiculous so I laughed. I showed the video to friends, and I laughed again. His words were poorly chosen.\\n\\nBut something worse happened. People interpreted Trump\\u2019s words in the most awful and offensive ways.\\n\\nIn one of my courses, at the University of Texas at Austin, I asked my students: \\u201cWhat has Donald Trump said that you found most offensive?\\u201d One student raised her hand high: \\u201cHe said that all Mexicans are rapists.\\u201d I asked a coworker the same question. He replied: \\u201cHe said that all Mexican immigrants are rapists.\\u201d\\n\\nI explained that Trump said no such thing. This is what Trump said:\\n\\nYou might well dislike Trump\\u2019s words. I did. But let\\u2019s not make it worse. He did not say that all Mexicans are rapists. Yet that\\u2019s what many commentators did. For example,\\u00a0Politico\\u00a0misquoted Trump by omitting his phrase about \\u201cgood people.\\u201d They said he was \\u201cdemonizing Mexicans as rapists.\\u201d They argued that Mexicans do not really commit more rapes in the U.S. than whites. But that\\u2019s not what Trump claimed.\\n\\nSimilarly, other news sources misrepresented his words in offensive ways:\\n\\nCompare such words with Trump\\u2019s words. Which is worse? Writers excerpted the phrase: \\u201cthey\\u2019re rapists,\\u201d as if it were about all Mexican unauthorized immigrants, or worse, about all Mexican immigrants, or even worst, about all Mexicans. But that\\u2019s not what he said. That\\u2019s not what he meant. It was just a remark about some of the criminals crossing the border.\\n\\nThe trick for misrepresenting Trump\\u2019s words can be used against anyone.\\n\\nFor example, on October 7, at a Democratic debate, Hillary Clinton answered the question: \\u201cWhich enemy are you most proud of?\\u201d She replied: \\u201cIn addition to the NRA, um, the health insurance companies, the drug companies, um, the Iranians.\\u201d\\n\\nIf you do to her what the media did to Trump, then you should believe that Hillary Clinton is proud to be the enemy of 77 million citizens of Iran, plus millions more living outside Iran, including mothers, children, and disabled people. But that\\u2019s not what she meant.\\n\\nOn November 6, at the MSNBC Democratic Candidates Forum, Bernie Sanders said: \\u201cwe have to pass a constitutional amendment that everyone in America who is 18 years old or older is registered to vote.\\u201d He said\\u00a0everyone. Someone might then write: \\u201cHe proposed that everyone who is in the U.S. should vote, everyone who is 18, even illegal immigrants, tourists, and terrorists.\\u201d But that\\u2019s not what he meant.\\n\\nIt is no wonder that many people think the media is grossly dishonest. No wonder Mr. Trump\\u2019s critiques of the media make his followers cheer.\\n\\nTrump was discussing crimes committed by unauthorized immigrants. Is it true that some people who illegally cross the border from Mexico are good? Yes. Is it true that some others commit crimes? Yes. Is that a problem? People disagree. Some conjecture that unauthorized immigrants don\\u2019t commit more crimes than U.S. citizens. But crimes by unauthorized immigrants, even murders, would not have happened if those individuals had not entered the U.S.\\n\\nTime for a disclosure. I was born and raised in Puerto Rico. Spanish is my first language. I voted for Obama. I live in liberal Austin, Texas, where I work as a tenured professor of history. I\\u2019ve never voted for a Republican. My preferred candidate for U.S. president would be Elizabeth Warren. Since she is not running, my preferred candidate is Bernie Sanders.\\n\\nAnyhow, discussions about illegal immigration are ruined by lack of data. I asked my friends, university faculty: \\u201cHow many people do you think are deported per year in the U.S.?\\u201d\\n\\nThere are two kinds of deportations: some are caught near the border and \\u201creturned,\\u201d others are \\u201cremoved\\u201d by a court order. Consider the border patrol agents, personnel, the bureaucracy, the lawyers, the resources needed to find people and deport them. How many were deported in 2014?\\n\\nOne of my friends guessed 3,000. Another guessed 10,000. Another guessed 50,000\\u2014which would really be a lot of people, imagine.\\n\\nActually, in fiscal year 2014, the U.S. deported a total of 893,238 foreigners! That\\u2019s a huge number. It includes 577,295 deported by the Department of Homeland Security, plus 315,943 deported by Immigration and Customs Enforcement. Among the latter, 2,802 were classified as suspected or confirmed gang members.\\n\\nSince 1990, the average is 1.2 million deportations per year. The highest in U.S. history was 1.86 million foreigners deported in the year 2000. That\\u2019s astonishing.\\n\\nHow many were criminals?\\n\\nWe don\\u2019t know because most criminals are not caught. Plus, many who are accused are not convicted because of a lack of evidence. Still, in 2014, the U.S. deported 177,960 convicted criminals. Surprisingly, 91,037 were already convicted criminals\\u00a0before\\u00a0they even entered the\\u00a0U.S.\\n\\nAt the University of Texas at Austin, the football stadium can seat 100,119 people. I have seen it full. I\\u2019ve see more than 100,000 people at once\\u2014it\\u2019s an incredible sight. It\\u2019s a staggering swarm of people. I have seen them yelling all at once.\\n\\nIt is utterly astonishing to me that this stadium would fail to seat all the convicted criminals deported in a single year. Back to Mr. Trump. Did he unfairly single out Mexicans when complaining about crimes by unauthorized immigrants? By far, most Mexicans are good people. However, since Mexico shares a large frontier with the U.S., and many Mexicans face economic hardships, most of the reported illegal immigration into the U.S. is from Mexico. Accordingly, in recent years roughly 76% of criminal unauthorized immigrants are from Mexico. What kinds of crime? It is strangely difficult to find national statistics on homicides, sexual assaults, and thefts, by unauthorized immigrants. But there is relevant data for some states. The Texas Department of Public Safety identified 207,076 foreign aliens who were booked into Texas county jails from October 2008 through August 1, 2014. Their term \\u201cforeign aliens\\u201d includes both foreigners who are in Texas legally and foreigners who entered illegally. They were accused of 357,884 crimes in those 70 months, including these charges: 4,413 terroristic threats, 60,973 robberies and larcenies, 6,636 vehicle thefts, 78,682 assaults, 12,869 sexual assaults and offenses, 1,113 kidnapping, and 3,089 homicides. That includes, an average of 1,383 charges of sexual assaults per year, in Texas alone. The real number of rapes and sexual assaults is larger since many victims do not report these crimes. According to the National Crime and Victimization Survey, 2008-2012, approximately 68% of sexual assault crimes are not reported. So I estimate that foreigners commit roughly 4,000 sexual assaults in Texas each year. In Texas, roughly 529 foreigners per year were accused of committing murder. Plus, the FBI reports that 36% of homicides nationwide remain unsolved. These crime rates are staggering and offensive. None of the women and men who were killed in by unauthorized immigrants in Texas would have died if the murderers had not entered the U.S. illegally. These are not just words. Pause for a moment to think about a Texas woman whose husband was murdered one night. Think about parents who never saw their son again because he was murdered. Think of the thousands of families standing at the cemeteries. I\\u2019ve only summarized murders and sexual assaults. Consider drugs and drug violence. According to the Drug Enforcement Administration, most illegal drugs come from Mexico, including most cocaine and heroine. Most methamphetamines also are smuggled from Mexico. The 2015 National Drug Threat Survey finds that methamphetamines are the drugs that most contribute to property crimes and violent crimes. You get the point. There are tremendous problems of drugs, murders, and rapes caused at the porous border. Without knowing the data, it was easy to be offended by Mr. Trump\\u2019s crude words when he announced his candidacy. However, seeing the data above, I understand his concerns. Here\\u2019s what Trump said right after his words quoted above: \\u201cAnd it only makes common sense, it only makes common sense: they\\u2019re sending us not the right people, and it\\u2019s coming from more than Mexico, it\\u2019s coming from all over South and Latin America, and it\\u2019s coming probably, probably from the Middle East. But we don\\u2019t know because we have no protection, and we have no competence. We don\\u2019t know what\\u2019s happening. And it\\u2019s gotta stop. And it\\u2019s gotta stop fast.\\u201d We can disagree about some points. Is the Mexican government really sending criminals to the U.S.? On July 5, Trump said: \\u201cThe Mexican Government is forcing their most unwanted people into the United States. They are, in many cases, criminals, drug dealers, rapists, etc.\\u201d This claim might be false if Mexico does not intentionally send criminals to the US. At its best, this statement seems plausible if Trump meant that conditions generated in Mexico by its government lead some criminals to the U.S. In any case, Trump proposes to secure the southern border by implementing various security measures. His most recurring proposal is to build a wall, along areas of the border lacking natural barriers. His proposal has been widely criticized. Some people construed it as a sign of racism, xenophobia, etc. However, I can understand why many of Trump\\u2019s followers actually cheer: \\u201cBuild the Wall! Build the Wall!\\u201d First, there are the worries about murders, drugs, crimes, and terrorism. Presently, countless many unauthorized immigrants walk into the country, unchecked. In fiscal year 2014, the Border Patrol made 468,407 apprehensions along the southwest border. By comparison, the Border Patrol only made 18,244 apprehensions in all other regions. But one point sticks in my mind. Namely this: there already exist a long series of fences and walls between Mexico and the U.S. These fences and walls span parts of California, Arizona, New Mexico, and Texas. As of early 2012, the Department of Homeland Security had completed 652 miles of fences and walls. Trump did not build all that. It was mandated by Congress. Walls are common along\\u00a0many countries\\u2019 borders, such as Spain, China, France, Greece, Pakistan,\\u00a0Israel, etc. The border between the U.S. and Mexico spans roughly 1,950 miles. Trump wants a wall that will be 1,000 miles long, including areas already covered. I\\u2019m not trying to convince you about a wall. My point is just that it\\u2019s neither impossible nor ridiculous. A main reason why many border areas have fences instead of walls is just that walls are more expensive. Trump says that everyone who didn\\u2019t enter the U.S. legally should return to their countries. \\u201cThey have to go.\\u201d We might well disagree. But his view is closer to Immigration law. If you prefer amnesty then lawmakers have to create a law to that effect. Trump insists: \\u201cI want people to come in, but they have to come in legally.\\u201d Regardless, countless many people think that Trump is racist against Mexicans. I suggest that anyone who thinks that should count how many times Trump has praised Mexicans. Most unauthorized immigrants are good people. But still, the media wrongly blamed Mr. Trump for their own misrepresentations.\"\n        ],\n        \"num_unique_values\": 34526,\n        \"semantic_type\": \"\",\n        \"description\": \"\"\n      }\n    },\n    {\n      \"column\": \"label\",\n      \"properties\": {\n        \"dtype\": \"number\",\n        \"std\": 0,\n        \"min\": 1,\n        \"max\": 1,\n        \"samples\": [\n          1\n        ],\n        \"num_unique_values\": 1,\n        \"semantic_type\": \"\",\n        \"description\": \"\"\n      }\n    }\n  ]\n}"
            }
          },
          "metadata": {},
          "execution_count": 6
        }
      ],
      "source": [
        "df_true['label']=1\n",
        "df_true=df_true.drop('Unnamed: 0',axis=1)\n",
        "df_true.head()"
      ]
    },
    {
      "cell_type": "code",
      "execution_count": null,
      "metadata": {
        "id": "da3fyoG_H0Hv",
        "colab": {
          "base_uri": "https://localhost:8080/",
          "height": 206
        },
        "outputId": "10ebad1e-0c92-45d1-febe-b02d2c264691"
      },
      "outputs": [
        {
          "output_type": "execute_result",
          "data": {
            "text/plain": [
              "                                                text  label\n",
              "0  Donald Trump just couldn t wish all Americans ...      0\n",
              "1  House Intelligence Committee Chairman Devin Nu...      0\n",
              "2  On Friday, it was revealed that former Milwauk...      0\n",
              "3  On Christmas day, Donald Trump announced that ...      0\n",
              "4  Pope Francis used his annual Christmas Day mes...      0"
            ],
            "text/html": [
              "\n",
              "  <div id=\"df-18acfabe-20c6-426d-a7d6-39dc93cace7a\" class=\"colab-df-container\">\n",
              "    <div>\n",
              "<style scoped>\n",
              "    .dataframe tbody tr th:only-of-type {\n",
              "        vertical-align: middle;\n",
              "    }\n",
              "\n",
              "    .dataframe tbody tr th {\n",
              "        vertical-align: top;\n",
              "    }\n",
              "\n",
              "    .dataframe thead th {\n",
              "        text-align: right;\n",
              "    }\n",
              "</style>\n",
              "<table border=\"1\" class=\"dataframe\">\n",
              "  <thead>\n",
              "    <tr style=\"text-align: right;\">\n",
              "      <th></th>\n",
              "      <th>text</th>\n",
              "      <th>label</th>\n",
              "    </tr>\n",
              "  </thead>\n",
              "  <tbody>\n",
              "    <tr>\n",
              "      <th>0</th>\n",
              "      <td>Donald Trump just couldn t wish all Americans ...</td>\n",
              "      <td>0</td>\n",
              "    </tr>\n",
              "    <tr>\n",
              "      <th>1</th>\n",
              "      <td>House Intelligence Committee Chairman Devin Nu...</td>\n",
              "      <td>0</td>\n",
              "    </tr>\n",
              "    <tr>\n",
              "      <th>2</th>\n",
              "      <td>On Friday, it was revealed that former Milwauk...</td>\n",
              "      <td>0</td>\n",
              "    </tr>\n",
              "    <tr>\n",
              "      <th>3</th>\n",
              "      <td>On Christmas day, Donald Trump announced that ...</td>\n",
              "      <td>0</td>\n",
              "    </tr>\n",
              "    <tr>\n",
              "      <th>4</th>\n",
              "      <td>Pope Francis used his annual Christmas Day mes...</td>\n",
              "      <td>0</td>\n",
              "    </tr>\n",
              "  </tbody>\n",
              "</table>\n",
              "</div>\n",
              "    <div class=\"colab-df-buttons\">\n",
              "\n",
              "  <div class=\"colab-df-container\">\n",
              "    <button class=\"colab-df-convert\" onclick=\"convertToInteractive('df-18acfabe-20c6-426d-a7d6-39dc93cace7a')\"\n",
              "            title=\"Convert this dataframe to an interactive table.\"\n",
              "            style=\"display:none;\">\n",
              "\n",
              "  <svg xmlns=\"http://www.w3.org/2000/svg\" height=\"24px\" viewBox=\"0 -960 960 960\">\n",
              "    <path d=\"M120-120v-720h720v720H120Zm60-500h600v-160H180v160Zm220 220h160v-160H400v160Zm0 220h160v-160H400v160ZM180-400h160v-160H180v160Zm440 0h160v-160H620v160ZM180-180h160v-160H180v160Zm440 0h160v-160H620v160Z\"/>\n",
              "  </svg>\n",
              "    </button>\n",
              "\n",
              "  <style>\n",
              "    .colab-df-container {\n",
              "      display:flex;\n",
              "      gap: 12px;\n",
              "    }\n",
              "\n",
              "    .colab-df-convert {\n",
              "      background-color: #E8F0FE;\n",
              "      border: none;\n",
              "      border-radius: 50%;\n",
              "      cursor: pointer;\n",
              "      display: none;\n",
              "      fill: #1967D2;\n",
              "      height: 32px;\n",
              "      padding: 0 0 0 0;\n",
              "      width: 32px;\n",
              "    }\n",
              "\n",
              "    .colab-df-convert:hover {\n",
              "      background-color: #E2EBFA;\n",
              "      box-shadow: 0px 1px 2px rgba(60, 64, 67, 0.3), 0px 1px 3px 1px rgba(60, 64, 67, 0.15);\n",
              "      fill: #174EA6;\n",
              "    }\n",
              "\n",
              "    .colab-df-buttons div {\n",
              "      margin-bottom: 4px;\n",
              "    }\n",
              "\n",
              "    [theme=dark] .colab-df-convert {\n",
              "      background-color: #3B4455;\n",
              "      fill: #D2E3FC;\n",
              "    }\n",
              "\n",
              "    [theme=dark] .colab-df-convert:hover {\n",
              "      background-color: #434B5C;\n",
              "      box-shadow: 0px 1px 3px 1px rgba(0, 0, 0, 0.15);\n",
              "      filter: drop-shadow(0px 1px 2px rgba(0, 0, 0, 0.3));\n",
              "      fill: #FFFFFF;\n",
              "    }\n",
              "  </style>\n",
              "\n",
              "    <script>\n",
              "      const buttonEl =\n",
              "        document.querySelector('#df-18acfabe-20c6-426d-a7d6-39dc93cace7a button.colab-df-convert');\n",
              "      buttonEl.style.display =\n",
              "        google.colab.kernel.accessAllowed ? 'block' : 'none';\n",
              "\n",
              "      async function convertToInteractive(key) {\n",
              "        const element = document.querySelector('#df-18acfabe-20c6-426d-a7d6-39dc93cace7a');\n",
              "        const dataTable =\n",
              "          await google.colab.kernel.invokeFunction('convertToInteractive',\n",
              "                                                    [key], {});\n",
              "        if (!dataTable) return;\n",
              "\n",
              "        const docLinkHtml = 'Like what you see? Visit the ' +\n",
              "          '<a target=\"_blank\" href=https://colab.research.google.com/notebooks/data_table.ipynb>data table notebook</a>'\n",
              "          + ' to learn more about interactive tables.';\n",
              "        element.innerHTML = '';\n",
              "        dataTable['output_type'] = 'display_data';\n",
              "        await google.colab.output.renderOutput(dataTable, element);\n",
              "        const docLink = document.createElement('div');\n",
              "        docLink.innerHTML = docLinkHtml;\n",
              "        element.appendChild(docLink);\n",
              "      }\n",
              "    </script>\n",
              "  </div>\n",
              "\n",
              "\n",
              "<div id=\"df-6bd2f179-a2ba-4970-9cc1-ca40b5a18bc7\">\n",
              "  <button class=\"colab-df-quickchart\" onclick=\"quickchart('df-6bd2f179-a2ba-4970-9cc1-ca40b5a18bc7')\"\n",
              "            title=\"Suggest charts\"\n",
              "            style=\"display:none;\">\n",
              "\n",
              "<svg xmlns=\"http://www.w3.org/2000/svg\" height=\"24px\"viewBox=\"0 0 24 24\"\n",
              "     width=\"24px\">\n",
              "    <g>\n",
              "        <path d=\"M19 3H5c-1.1 0-2 .9-2 2v14c0 1.1.9 2 2 2h14c1.1 0 2-.9 2-2V5c0-1.1-.9-2-2-2zM9 17H7v-7h2v7zm4 0h-2V7h2v10zm4 0h-2v-4h2v4z\"/>\n",
              "    </g>\n",
              "</svg>\n",
              "  </button>\n",
              "\n",
              "<style>\n",
              "  .colab-df-quickchart {\n",
              "      --bg-color: #E8F0FE;\n",
              "      --fill-color: #1967D2;\n",
              "      --hover-bg-color: #E2EBFA;\n",
              "      --hover-fill-color: #174EA6;\n",
              "      --disabled-fill-color: #AAA;\n",
              "      --disabled-bg-color: #DDD;\n",
              "  }\n",
              "\n",
              "  [theme=dark] .colab-df-quickchart {\n",
              "      --bg-color: #3B4455;\n",
              "      --fill-color: #D2E3FC;\n",
              "      --hover-bg-color: #434B5C;\n",
              "      --hover-fill-color: #FFFFFF;\n",
              "      --disabled-bg-color: #3B4455;\n",
              "      --disabled-fill-color: #666;\n",
              "  }\n",
              "\n",
              "  .colab-df-quickchart {\n",
              "    background-color: var(--bg-color);\n",
              "    border: none;\n",
              "    border-radius: 50%;\n",
              "    cursor: pointer;\n",
              "    display: none;\n",
              "    fill: var(--fill-color);\n",
              "    height: 32px;\n",
              "    padding: 0;\n",
              "    width: 32px;\n",
              "  }\n",
              "\n",
              "  .colab-df-quickchart:hover {\n",
              "    background-color: var(--hover-bg-color);\n",
              "    box-shadow: 0 1px 2px rgba(60, 64, 67, 0.3), 0 1px 3px 1px rgba(60, 64, 67, 0.15);\n",
              "    fill: var(--button-hover-fill-color);\n",
              "  }\n",
              "\n",
              "  .colab-df-quickchart-complete:disabled,\n",
              "  .colab-df-quickchart-complete:disabled:hover {\n",
              "    background-color: var(--disabled-bg-color);\n",
              "    fill: var(--disabled-fill-color);\n",
              "    box-shadow: none;\n",
              "  }\n",
              "\n",
              "  .colab-df-spinner {\n",
              "    border: 2px solid var(--fill-color);\n",
              "    border-color: transparent;\n",
              "    border-bottom-color: var(--fill-color);\n",
              "    animation:\n",
              "      spin 1s steps(1) infinite;\n",
              "  }\n",
              "\n",
              "  @keyframes spin {\n",
              "    0% {\n",
              "      border-color: transparent;\n",
              "      border-bottom-color: var(--fill-color);\n",
              "      border-left-color: var(--fill-color);\n",
              "    }\n",
              "    20% {\n",
              "      border-color: transparent;\n",
              "      border-left-color: var(--fill-color);\n",
              "      border-top-color: var(--fill-color);\n",
              "    }\n",
              "    30% {\n",
              "      border-color: transparent;\n",
              "      border-left-color: var(--fill-color);\n",
              "      border-top-color: var(--fill-color);\n",
              "      border-right-color: var(--fill-color);\n",
              "    }\n",
              "    40% {\n",
              "      border-color: transparent;\n",
              "      border-right-color: var(--fill-color);\n",
              "      border-top-color: var(--fill-color);\n",
              "    }\n",
              "    60% {\n",
              "      border-color: transparent;\n",
              "      border-right-color: var(--fill-color);\n",
              "    }\n",
              "    80% {\n",
              "      border-color: transparent;\n",
              "      border-right-color: var(--fill-color);\n",
              "      border-bottom-color: var(--fill-color);\n",
              "    }\n",
              "    90% {\n",
              "      border-color: transparent;\n",
              "      border-bottom-color: var(--fill-color);\n",
              "    }\n",
              "  }\n",
              "</style>\n",
              "\n",
              "  <script>\n",
              "    async function quickchart(key) {\n",
              "      const quickchartButtonEl =\n",
              "        document.querySelector('#' + key + ' button');\n",
              "      quickchartButtonEl.disabled = true;  // To prevent multiple clicks.\n",
              "      quickchartButtonEl.classList.add('colab-df-spinner');\n",
              "      try {\n",
              "        const charts = await google.colab.kernel.invokeFunction(\n",
              "            'suggestCharts', [key], {});\n",
              "      } catch (error) {\n",
              "        console.error('Error during call to suggestCharts:', error);\n",
              "      }\n",
              "      quickchartButtonEl.classList.remove('colab-df-spinner');\n",
              "      quickchartButtonEl.classList.add('colab-df-quickchart-complete');\n",
              "    }\n",
              "    (() => {\n",
              "      let quickchartButtonEl =\n",
              "        document.querySelector('#df-6bd2f179-a2ba-4970-9cc1-ca40b5a18bc7 button');\n",
              "      quickchartButtonEl.style.display =\n",
              "        google.colab.kernel.accessAllowed ? 'block' : 'none';\n",
              "    })();\n",
              "  </script>\n",
              "</div>\n",
              "    </div>\n",
              "  </div>\n"
            ],
            "application/vnd.google.colaboratory.intrinsic+json": {
              "type": "dataframe",
              "variable_name": "df_fake",
              "summary": "{\n  \"name\": \"df_fake\",\n  \"rows\": 43642,\n  \"fields\": [\n    {\n      \"column\": \"text\",\n      \"properties\": {\n        \"dtype\": \"string\",\n        \"samples\": [\n          \"At this point, hearing that there has been violent attacks at rallies held by GOP presidential frontrunner Donald Trump is hardly surprising. His supporters are notoriously fanatical, and woe betide anyone who gets on their bad side   especially when they are all riled up and in the midst of listening to another blistering speech by the leader they look up to so much. So, to that end, here we are again, reading another news cycle of things gone awry at yet another Trump rally, this time in Tucson, Arizona.It appears that, as is par for the course at Trump events these days, there were bunches of protesters. Cell phone video has been making the rounds on social media that shows a man, apparently a protester, being brutally attacked by Trump s brute-like supporters. First, it appears that the man is punched, and then, when he is actually on the ground, he is stomped and kicked, until the authorities show up and break up the altercation.All the while, Trump continues to speak, making his already volatile crowd even more so. Here is the video, as tweeted out by NBC reporter Frank Thorp:VIOLENCE at another Donald Trump rally, this time in Tucson, AZ. Man hits and kicks protester: pic.twitter.com/7FWuSeE0Jt  Frank Thorp V (@frankthorpNBC) March 19, 2016And here is another video that seemingly shows Trump s own campaign manager roughing up a protester:Here is Donald Trump's campaign manager in the Tucson crowd grabbing the collar of a protester. pic.twitter.com/JZ9RntWlHY  Jacqueline Alemany (@JaxAlemany) March 19, 2016It should be damn frightening to ANYONE that the presidential frontrunner of a major American political party sincerely not only believes that this behavior is okay, but actively encourages it. This, ladies and gentlemen, is Donald Trump s America. Be afraid. Be very afraid.Featured image via video screen capture via Twitter\",\n          \"The US secret services have latched onto the fairy tales of Russian hackers and trolls in part to divert attention from the eavesdropping on [former President of\\u00a0 Brazil Dilma] Rousseff and others.\",\n          \"George Takei has been on a social media role since the start of the Trump era, providing astute commentary with a brilliant wit that has made him beloved to millions. His latest Twitter poem   something he does fairly often   might be one of my favorite posts of his yet.Here it is:The crisis has grown very direTrump threatens with fury and fireSo before war's begunAgainst Kim Jong-unWe'd better make Donnie retire  George Takei (@GeorgeTakei) August 9, 2017 The crisis has grown very dire Trump threatens with fury and fire So war s begun Against Kim Jong-un We d better make Donnie retire I d say we re all thinking something pretty similar! Or, at least, according to the latest polling, an overwhelming majority of us are (sorry Trump fans, but those are the facts).Here are a few of his other latest Twitter poems:You tweet us ad nauseumMueller's not tricked cause of 'emSo tweet your memoirsDuring years behind barsYou no doubt'll serve lots of 'em  George Takei (@GeorgeTakei) August 8, 2017Happy Bday oh dearest ObamaThanks for 8 yrs of no dramaFor your wisdom and strengthFor sparing no lengthAnd no daily national trauma  George Takei (@GeorgeTakei) August 5, 2017Things just went south in a hurryNow that they've sat a grand jurySubpoenas galoreI've popcorn. Want more?As karma unleashes its fury.  George Takei (@GeorgeTakei) August 4, 2017Putin tried this n that hackeeInstalling a personal lackeyIt's since come to passWe sanctioned his assWhile Trump is increasingly wacky  George Takei (@GeorgeTakei) August 2, 2017Keep it up, George! You can bet it pisses Trump off every time he sees one, considering how thin his skin is.Read more:Featured image via Stephen Lovekin/Getty Images for GLAAD\"\n        ],\n        \"num_unique_values\": 34078,\n        \"semantic_type\": \"\",\n        \"description\": \"\"\n      }\n    },\n    {\n      \"column\": \"label\",\n      \"properties\": {\n        \"dtype\": \"number\",\n        \"std\": 0,\n        \"min\": 0,\n        \"max\": 0,\n        \"samples\": [\n          0\n        ],\n        \"num_unique_values\": 1,\n        \"semantic_type\": \"\",\n        \"description\": \"\"\n      }\n    }\n  ]\n}"
            }
          },
          "metadata": {},
          "execution_count": 7
        }
      ],
      "source": [
        "df_fake['label']=0\n",
        "df_fake=df_fake.drop('Unnamed: 0',axis=1)\n",
        "df_fake.head()"
      ]
    },
    {
      "cell_type": "code",
      "execution_count": null,
      "metadata": {
        "id": "6e6O9thuH0JC",
        "colab": {
          "base_uri": "https://localhost:8080/"
        },
        "outputId": "c7aa048c-8c3a-421c-e625-30b4d33050c1"
      },
      "outputs": [
        {
          "output_type": "stream",
          "name": "stdout",
          "text": [
            "<class 'pandas.core.frame.DataFrame'>\n",
            "Int64Index: 78617 entries, 0 to 43641\n",
            "Data columns (total 2 columns):\n",
            " #   Column  Non-Null Count  Dtype \n",
            "---  ------  --------------  ----- \n",
            " 0   text    78588 non-null  object\n",
            " 1   label   78617 non-null  int64 \n",
            "dtypes: int64(1), object(1)\n",
            "memory usage: 1.8+ MB\n"
          ]
        }
      ],
      "source": [
        "df=pd.concat([df_true,df_fake])\n",
        "df.info()\n"
      ]
    },
    {
      "cell_type": "code",
      "execution_count": null,
      "metadata": {
        "id": "UXcHN4EiH0Ku",
        "colab": {
          "base_uri": "https://localhost:8080/"
        },
        "outputId": "40cb5f9d-7867-4cc2-8dda-d713b40dea9e"
      },
      "outputs": [
        {
          "output_type": "stream",
          "name": "stdout",
          "text": [
            "<class 'pandas.core.frame.DataFrame'>\n",
            "Int64Index: 78588 entries, 0 to 43641\n",
            "Data columns (total 2 columns):\n",
            " #   Column  Non-Null Count  Dtype \n",
            "---  ------  --------------  ----- \n",
            " 0   text    78588 non-null  object\n",
            " 1   label   78588 non-null  int64 \n",
            "dtypes: int64(1), object(1)\n",
            "memory usage: 1.8+ MB\n"
          ]
        }
      ],
      "source": [
        "df=df.dropna(how=\"any\")\n",
        "df.info()"
      ]
    },
    {
      "cell_type": "markdown",
      "metadata": {
        "id": "KgtjTqYvNEeS"
      },
      "source": [
        "#DATA PREPROCESSING\n"
      ]
    },
    {
      "cell_type": "code",
      "execution_count": null,
      "metadata": {
        "id": "YzLjlPH6H0My"
      },
      "outputs": [],
      "source": [
        "y = df[\"label\"].values\n",
        "\n",
        "X = []\n",
        "stop_words = set(nltk.corpus.stopwords.words(\"english\"))\n",
        "tokenizer = nltk.tokenize.RegexpTokenizer(r'\\w+')\n",
        "for par in df[\"text\"].values:\n",
        "    tmp = []\n",
        "    sentences = nltk.sent_tokenize(par)\n",
        "    for sent in sentences:\n",
        "        sent = sent.lower()\n",
        "        tokens = tokenizer.tokenize(sent)\n",
        "        filtered_words = [w.strip() for w in tokens if w not in stop_words and len(w) > 1]\n",
        "        tmp.extend(filtered_words)\n",
        "    X.append(tmp)\n",
        "\n",
        "del df"
      ]
    },
    {
      "cell_type": "markdown",
      "metadata": {
        "id": "-EXyebPcNSK_"
      },
      "source": [
        "#Why are word embeddings needed?\n",
        "\n",
        "Let us consider the two sentences – “You can scale your business.” and “You can grow your business.”. These two sentences have the same meaning. If we consider a vocabulary considering these two sentences, it will constitute of these words: {You, can, scale, grow, your, business}.\n",
        "\n",
        "A one-hot encoding of these words would create a vector of length 6. The encodings for each of the words would look like this:\n",
        "\n",
        "You: [1,0,0,0,0,0], Can: [0,1,0,0,0,0], Scale: [0,0,1,0,0,0], Grow: [0,0,0,1,0,0],\n",
        "\n",
        "Your: [0,0,0,0,1,0], Business: [0,0,0,0,0,1]\n",
        "\n",
        "In a 6-dimensional space, each word would occupy one of the dimensions, meaning that none of these words has any similarity with each other – irrespective of their literal meanings.\n",
        "\n",
        "#What is Word2Vec?\n",
        "\n",
        "Word2Vec creates vectors of the words that are distributed numerical representations of word features – these word features could comprise of words that represent the context of the individual words present in our vocabulary. Word embeddings eventually help in establishing the association of a word with another similar meaning word through the created vectors.\n",
        "\n",
        "As seen in the image below where word embeddings are plotted, similar meaning words are closer in space, indicating their semantic similarity.\n",
        "\n"
      ]
    },
    {
      "cell_type": "code",
      "execution_count": null,
      "metadata": {
        "id": "z6CkbB4eH0N9"
      },
      "outputs": [],
      "source": [
        "EMBEDDING_DIM = 100\n",
        "\n",
        "w2v_model = gensim.models.Word2Vec(sentences=X, vector_size=EMBEDDING_DIM, window=5, min_count=1)"
      ]
    },
    {
      "cell_type": "code",
      "execution_count": null,
      "metadata": {
        "id": "VLKPMskkH0P8",
        "colab": {
          "base_uri": "https://localhost:8080/"
        },
        "outputId": "bb15186d-88be-4fab-acfe-ead1c128bf11"
      },
      "outputs": [
        {
          "output_type": "execute_result",
          "data": {
            "text/plain": [
              "240843"
            ]
          },
          "metadata": {},
          "execution_count": 12
        }
      ],
      "source": [
        "len(w2v_model.wv.index_to_key)"
      ]
    },
    {
      "cell_type": "code",
      "execution_count": null,
      "metadata": {
        "id": "I3I6Hq3iH0Rk",
        "colab": {
          "base_uri": "https://localhost:8080/"
        },
        "outputId": "ae644016-da14-404f-faf3-e615d204a7e6"
      },
      "outputs": [
        {
          "output_type": "execute_result",
          "data": {
            "text/plain": [
              "array([-1.1221689e+00, -5.2836180e-01, -1.1821339e+00, -2.8369937e+00,\n",
              "        3.1789281e+00, -3.1565461e+00,  9.3514675e-01, -4.4313312e+00,\n",
              "        1.5412338e+00, -1.2333601e+00,  2.4573913e+00, -3.4576565e-01,\n",
              "        2.7814609e-01, -5.6712627e+00,  3.0601060e-01,  9.2626822e-01,\n",
              "       -4.2361191e-01,  8.0440122e-01,  8.7361503e-01, -7.0847124e-02,\n",
              "        1.2133390e+00, -5.1455407e+00,  1.2737807e+00,  5.8629328e-01,\n",
              "       -1.8462864e+00,  1.5200546e-02, -3.5709131e+00,  2.0077226e+00,\n",
              "       -9.6877636e-03,  2.1206625e+00, -3.1675148e-01,  2.0525224e+00,\n",
              "       -1.7458216e+00, -1.2763320e+00, -5.7350248e-01, -1.9575671e+00,\n",
              "        6.9486457e-01, -6.1727196e-01, -2.9037562e-01,  4.4088516e+00,\n",
              "        1.5044699e+00,  7.6451999e-01, -4.9418041e-01,  1.4328786e+00,\n",
              "       -2.8222482e+00, -4.6338100e+00,  4.6618190e+00, -6.0674262e-01,\n",
              "        1.5704556e+00,  7.4566931e-01,  8.5912323e-01,  1.4803161e-01,\n",
              "        9.4550896e-01, -1.1221173e+00,  2.1350627e-01,  7.8588748e-01,\n",
              "       -4.1952997e-01, -1.7506793e+00,  3.6970329e+00, -4.6778354e-01,\n",
              "        3.4286497e+00,  1.3487342e-01,  9.4809961e-01, -3.2272425e+00,\n",
              "        2.9212043e+00,  6.3201499e-01,  2.2735082e-01,  3.0970068e+00,\n",
              "       -4.6798115e+00,  2.4250059e-03, -1.0565405e+00, -2.6962435e+00,\n",
              "        7.5569355e-01, -5.4115540e-01,  3.9591072e+00,  8.6716956e-01,\n",
              "       -2.1624017e+00,  3.0823400e+00, -3.3623536e+00, -3.0212770e+00,\n",
              "        1.3698184e+00, -7.5595802e-01, -3.5946612e+00,  1.6347640e+00,\n",
              "        2.3373013e+00, -3.6905942e+00, -1.3148124e+00,  1.6406562e+00,\n",
              "       -1.5746849e+00,  8.8875413e-01,  1.1029307e+00,  2.3419876e+00,\n",
              "       -2.2054704e-01,  1.4943191e+00,  9.5794815e-01, -5.0354505e+00,\n",
              "        2.3546166e+00, -5.5666986e+00,  4.3736005e+00,  1.9087104e-02],\n",
              "      dtype=float32)"
            ]
          },
          "metadata": {},
          "execution_count": 13
        }
      ],
      "source": [
        "w2v_model.wv[\"war\"]"
      ]
    },
    {
      "cell_type": "code",
      "execution_count": null,
      "metadata": {
        "id": "JQMZZ1QrH0VC",
        "colab": {
          "base_uri": "https://localhost:8080/"
        },
        "outputId": "e70ef8ee-aa8a-46ea-84c0-7e178e7b4e64"
      },
      "outputs": [
        {
          "output_type": "execute_result",
          "data": {
            "text/plain": [
              "[('viruses', 0.7374574542045593),\n",
              " ('diphtheria', 0.7141233086585999),\n",
              " ('dengue', 0.7001491189002991),\n",
              " ('epidemics', 0.6973016262054443),\n",
              " ('outbreaks', 0.6923196911811829),\n",
              " ('infectious', 0.6904381513595581),\n",
              " ('tuberculosis', 0.6892621517181396),\n",
              " ('influenza', 0.6869493126869202),\n",
              " ('autoimmune', 0.6841630935668945),\n",
              " ('infect', 0.6800644397735596)]"
            ]
          },
          "metadata": {},
          "execution_count": 14
        }
      ],
      "source": [
        "w2v_model.wv.most_similar(\"pandemic\")"
      ]
    },
    {
      "cell_type": "code",
      "execution_count": null,
      "metadata": {
        "id": "Bbs5oxMlI9rg",
        "colab": {
          "base_uri": "https://localhost:8080/"
        },
        "outputId": "469c96e3-d240-4344-c0ff-6d92d38eba9a"
      },
      "outputs": [
        {
          "output_type": "execute_result",
          "data": {
            "text/plain": [
              "[('innovative', 0.832645058631897),\n",
              " ('technological', 0.7783599495887756),\n",
              " ('technology', 0.7541462779045105),\n",
              " ('sustainable', 0.7176094651222229),\n",
              " ('development', 0.6937923431396484),\n",
              " ('entrepreneurship', 0.6930320262908936),\n",
              " ('resource', 0.6900538206100464),\n",
              " ('competitiveness', 0.6873123645782471),\n",
              " ('robotics', 0.67165207862854),\n",
              " ('equitable', 0.6656655073165894)]"
            ]
          },
          "metadata": {},
          "execution_count": 15
        }
      ],
      "source": [
        "w2v_model.wv.most_similar(\"innovation\")"
      ]
    },
    {
      "cell_type": "code",
      "execution_count": null,
      "metadata": {
        "id": "BTZOhyfsI9tW",
        "colab": {
          "base_uri": "https://localhost:8080/"
        },
        "outputId": "9615e4b0-0d27-4884-a904-b337488b65c1"
      },
      "outputs": [
        {
          "output_type": "execute_result",
          "data": {
            "text/plain": [
              "[('piano', 0.7345587015151978),\n",
              " ('guitar', 0.7297989726066589),\n",
              " ('porcelain', 0.7227544188499451),\n",
              " ('fountain', 0.7221838235855103),\n",
              " ('twombly', 0.7203125357627869),\n",
              " ('mound', 0.7185961604118347),\n",
              " ('clubhouse', 0.7122907042503357),\n",
              " ('mozart', 0.7086827158927917),\n",
              " ('disco', 0.7074747085571289),\n",
              " ('cafe', 0.7025482654571533)]"
            ]
          },
          "metadata": {},
          "execution_count": 16
        }
      ],
      "source": [
        "w2v_model.wv.most_similar(positive=[\"beatles\",\"stones\", \"england\"])"
      ]
    },
    {
      "cell_type": "markdown",
      "metadata": {
        "id": "fjEQFSGlOwFW"
      },
      "source": [
        "#Tokenization\n",
        "Tokenization is a common task in Natural Language Processing (NLP). It’s a fundamental step in both traditional NLP methods like Count Vectorizer and Advanced Deep Learning-based architectures like Transformers.\n",
        "\n",
        "Tokens are the building blocks of Natural Language.\n",
        "\n",
        "Tokenization is a way of separating a piece of text into smaller units called tokens. Here, tokens can be either words, characters, or subwords. Hence, tokenization can be broadly classified into 3 types – word, character, and subword (n-gram characters) tokenization.\n",
        "\n",
        "For example, consider the sentence: “Never give up”.\n",
        "\n",
        "The most common way of forming tokens is based on space. Assuming space as a delimiter, the tokenization of the sentence results in 3 tokens – Never-give-up. As each token is a word, it becomes an example of Word tokenization.\n",
        "\n",
        "Similarly, tokens can be either characters or subwords. For example, let us consider “smarter”:\n",
        "\n",
        "Character tokens: s-m-a-r-t-e-r Subword tokens: smart-er"
      ]
    },
    {
      "cell_type": "code",
      "execution_count": null,
      "metadata": {
        "id": "_vXlivbLI9uy"
      },
      "outputs": [],
      "source": [
        "tokenizer = Tokenizer()\n",
        "tokenizer.fit_on_texts(X)\n",
        "\n",
        "X = tokenizer.texts_to_sequences(X)"
      ]
    },
    {
      "cell_type": "code",
      "execution_count": null,
      "metadata": {
        "id": "2lbXGTUNI9wb",
        "colab": {
          "base_uri": "https://localhost:8080/"
        },
        "outputId": "4c2f2545-685e-4322-fb55-969ad0790937"
      },
      "outputs": [
        {
          "output_type": "execute_result",
          "data": {
            "text/plain": [
              "[357, 305, 35, 6887, 135, 781, 200, 1008, 2696, 52]"
            ]
          },
          "metadata": {},
          "execution_count": 18
        }
      ],
      "source": [
        "X[0][:10]\n"
      ]
    },
    {
      "cell_type": "code",
      "execution_count": null,
      "metadata": {
        "id": "RGbzNp5pI9yW",
        "colab": {
          "base_uri": "https://localhost:8080/"
        },
        "outputId": "fec42980-be64-4680-fc97-6718c7fdc476"
      },
      "outputs": [
        {
          "output_type": "stream",
          "name": "stdout",
          "text": [
            "said -> 1\n",
            "trump -> 2\n",
            "would -> 3\n",
            "people -> 4\n",
            "president -> 5\n",
            "one -> 6\n",
            "mr -> 7\n",
            "clinton -> 8\n",
            "new -> 9\n",
            "also -> 10\n"
          ]
        }
      ],
      "source": [
        "word_index = tokenizer.word_index\n",
        "for word, num in word_index.items():\n",
        "    print(f\"{word} -> {num}\")\n",
        "    if num == 10:\n",
        "        break"
      ]
    },
    {
      "cell_type": "code",
      "execution_count": null,
      "metadata": {
        "id": "nw2k9Jf1I9zr",
        "colab": {
          "base_uri": "https://localhost:8080/",
          "height": 430
        },
        "outputId": "cbf0c208-8e4a-4c02-b692-701aa96662fd"
      },
      "outputs": [
        {
          "output_type": "display_data",
          "data": {
            "text/plain": [
              "<Figure size 640x480 with 1 Axes>"
            ],
            "image/png": "[encoded data removed]"
          },
          "metadata": {}
        }
      ],
      "source": [
        "plt.hist([len(x) for x in X], bins=500)\n",
        "plt.show()"
      ]
    },
    {
      "cell_type": "code",
      "execution_count": null,
      "metadata": {
        "id": "laUHQwyqI91p",
        "colab": {
          "base_uri": "https://localhost:8080/"
        },
        "outputId": "23ef133c-8faa-47e4-ffd6-738830c24a16"
      },
      "outputs": [
        {
          "output_type": "execute_result",
          "data": {
            "text/plain": [
              "76721"
            ]
          },
          "metadata": {},
          "execution_count": 21
        }
      ],
      "source": [
        "nos = np.array([len(x) for x in X])\n",
        "len(nos[nos  < 1000])"
      ]
    },
    {
      "cell_type": "code",
      "execution_count": null,
      "metadata": {
        "id": "A-__0h5rI95N"
      },
      "outputs": [],
      "source": [
        "maxlen = 1000\n",
        "\n",
        "X = pad_sequences(X, maxlen=maxlen)\n"
      ]
    },
    {
      "cell_type": "code",
      "execution_count": null,
      "metadata": {
        "id": "LUY0gSt2KMnt",
        "colab": {
          "base_uri": "https://localhost:8080/"
        },
        "outputId": "0c893bbb-cb32-4fd5-e2e9-c4a88e7b9a5e"
      },
      "outputs": [
        {
          "output_type": "execute_result",
          "data": {
            "text/plain": [
              "1000"
            ]
          },
          "metadata": {},
          "execution_count": 23
        }
      ],
      "source": [
        "len(X[0])"
      ]
    },
    {
      "cell_type": "code",
      "execution_count": null,
      "metadata": {
        "id": "dpB66mUwKMp_"
      },
      "outputs": [],
      "source": [
        "vocab_size = len(tokenizer.word_index) + 1"
      ]
    },
    {
      "cell_type": "code",
      "execution_count": null,
      "metadata": {
        "id": "_VVpYTfJKMr1"
      },
      "outputs": [],
      "source": [
        "def get_weight_matrix(model, vocab):\n",
        "    vocab_size = len(vocab) + 1\n",
        "    weight_matrix = np.zeros((vocab_size, EMBEDDING_DIM))\n",
        "    for word, i in vocab.items():\n",
        "        weight_matrix[i] = model[word]\n",
        "    return weight_matrix"
      ]
    },
    {
      "cell_type": "markdown",
      "metadata": {
        "id": "OL0ucbttPBJz"
      },
      "source": [
        "#Modeling\n",
        "・Embedding vectors by word2vec for embbeding layer weight"
      ]
    },
    {
      "cell_type": "code",
      "execution_count": null,
      "metadata": {
        "id": "fB4q76lfKTzY"
      },
      "outputs": [],
      "source": [
        "embedding_vectors = get_weight_matrix(w2v_model.wv, word_index)"
      ]
    },
    {
      "cell_type": "markdown",
      "metadata": {
        "id": "-qQS1cWYPGw6"
      },
      "source": [
        "Neural Network with Non-trainable embeddidng layer and LSTM"
      ]
    },
    {
      "cell_type": "code",
      "execution_count": null,
      "metadata": {
        "id": "nZQypg89KT1x"
      },
      "outputs": [],
      "source": [
        "model = Sequential()\n",
        "model.add(Embedding(vocab_size, output_dim=EMBEDDING_DIM, weights=[embedding_vectors], input_length=maxlen, trainable=False))\n",
        "model.add(LSTM(units=128))\n",
        "model.add(Dense(1, activation='sigmoid'))\n",
        "model.compile(optimizer='adam', loss='binary_crossentropy', metrics=['acc'])\n",
        "\n",
        "del embedding_vectors"
      ]
    },
    {
      "cell_type": "code",
      "execution_count": null,
      "metadata": {
        "id": "_nOGMIBgKT3Q",
        "colab": {
          "base_uri": "https://localhost:8080/"
        },
        "outputId": "bfef748e-0f58-42d4-b15f-0bf532cd653e"
      },
      "outputs": [
        {
          "output_type": "stream",
          "name": "stdout",
          "text": [
            "Model: \"sequential\"\n",
            "_________________________________________________________________\n",
            " Layer (type)                Output Shape              Param #   \n",
            "=================================================================\n",
            " embedding (Embedding)       (None, 1000, 100)         24084400  \n",
            "                                                                 \n",
            " lstm (LSTM)                 (None, 128)               117248    \n",
            "                                                                 \n",
            " dense (Dense)               (None, 1)                 129       \n",
            "                                                                 \n",
            "=================================================================\n",
            "Total params: 24201777 (92.32 MB)\n",
            "Trainable params: 117377 (458.50 KB)\n",
            "Non-trainable params: 24084400 (91.87 MB)\n",
            "_________________________________________________________________\n"
          ]
        }
      ],
      "source": [
        "model.summary()"
      ]
    },
    {
      "cell_type": "code",
      "execution_count": null,
      "metadata": {
        "id": "XHiAs9t0KT4t"
      },
      "outputs": [],
      "source": [
        "X_train, X_test, y_train, y_test = train_test_split(X,y,test_size=0.2)"
      ]
    },
    {
      "cell_type": "code",
      "execution_count": 30,
      "metadata": {
        "id": "hHmiNY2PKT69",
        "colab": {
          "base_uri": "https://localhost:8080/"
        },
        "outputId": "2c4eb940-6a54-465d-c9b9-3b9a2e50ddfd"
      },
      "outputs": [
        {
          "output_type": "stream",
          "name": "stdout",
          "text": [
            "Epoch 1/2\n",
            "1290/1290 [==============================] - 1931s 1s/step - loss: 0.2458 - acc: 0.9027 - val_loss: 0.1729 - val_acc: 0.9325\n",
            "Epoch 2/2\n",
            "1290/1290 [==============================] - 1910s 1s/step - loss: 0.1356 - acc: 0.9468 - val_loss: 0.1205 - val_acc: 0.9551\n"
          ]
        },
        {
          "output_type": "execute_result",
          "data": {
            "text/plain": [
              "<keras.src.callbacks.History at 0x7828e3859de0>"
            ]
          },
          "metadata": {},
          "execution_count": 30
        }
      ],
      "source": [
        "model.fit(X_train, y_train, validation_split=0.2, epochs=2, batch_size=32)"
      ]
    },
    {
      "cell_type": "code",
      "execution_count": 31,
      "metadata": {
        "id": "jCnPpmiBKT-W",
        "colab": {
          "base_uri": "https://localhost:8080/"
        },
        "outputId": "993fb364-ce77-4b1a-bbb0-5ce92f96237e"
      },
      "outputs": [
        {
          "output_type": "stream",
          "name": "stdout",
          "text": [
            "614/614 [==============================] - 291s 474ms/step\n"
          ]
        }
      ],
      "source": [
        "y_pred = (model.predict(X_test) >= 0.5).astype(\"int\")"
      ]
    },
    {
      "cell_type": "code",
      "execution_count": 32,
      "metadata": {
        "id": "s2Z4N04AKMtu",
        "colab": {
          "base_uri": "https://localhost:8080/"
        },
        "outputId": "64940d6c-46a2-47ed-fe04-c1a61afbba43"
      },
      "outputs": [
        {
          "data": {
            "text/plain": [
              "0.9561256171425663"
            ]
          },
          "execution_count": 32,
          "metadata": {},
          "output_type": "execute_result"
        }
      ],
      "source": [
        "accuracy_score(y_test, y_pred)"
      ]
    },
    {
      "cell_type": "code",
      "execution_count": 33,
      "metadata": {
        "id": "ACvPBscYKMwr",
        "colab": {
          "base_uri": "https://localhost:8080/"
        },
        "outputId": "6410b4d4-fc57-4397-f745-f50ca21ff61a"
      },
      "outputs": [
        {
          "output_type": "stream",
          "name": "stdout",
          "text": [
            "              precision    recall  f1-score   support\n",
            "\n",
            "           0       0.95      0.97      0.96     10869\n",
            "           1       0.96      0.94      0.95      8778\n",
            "\n",
            "    accuracy                           0.96     19647\n",
            "   macro avg       0.96      0.95      0.96     19647\n",
            "weighted avg       0.96      0.96      0.96     19647\n",
            "\n"
          ]
        }
      ],
      "source": [
        "print(classification_report(y_test, y_pred))"
      ]
    }
  ],
  "metadata": {
    "accelerator": "TPU",
    "colab": {
      "provenance": []
    },
    "kernelspec": {
      "display_name": "Python 3",
      "name": "python3"
    },
    "language_info": {
      "name": "python"
    }
  },
  "nbformat": 4,
  "nbformat_minor": 0
}